{
 "cells": [
  {
   "cell_type": "code",
   "execution_count": 2,
   "metadata": {},
   "outputs": [
    {
     "name": "stdout",
     "output_type": "stream",
     "text": [
      "##\n",
      "# User Database\n",
      "# \n",
      "# Note that this file is consulted directly only when the system is running\n",
      "# in single-user mode.  At other times this information is provided by\n",
      "# Open Directory.\n",
      "#\n",
      "# See the opendirectoryd(8) man page for additional information about\n",
      "# Open Directory.\n",
      "##\n",
      "nobody:*:-2:-2:Unprivileged User:/var/empty:/usr/bin/false\n",
      "root:*:0:0:System Administrator:/var/root:/bin/sh\n",
      "daemon:*:1:1:System Services:/var/root:/usr/bin/false\n",
      "_uucp:*:4:4:Unix to Unix Copy Protocol:/var/spool/uucp:/usr/sbin/uucico\n",
      "_taskgated:*:13:13:Task Gate Daemon:/var/empty:/usr/bin/false\n",
      "_networkd:*:24:24:Network Services:/var/networkd:/usr/bin/false\n",
      "_installassistant:*:25:25:Install Assistant:/var/empty:/usr/bin/false\n",
      "_lp:*:26:26:Printing Services:/var/spool/cups:/usr/bin/false\n",
      "_postfix:*:27:27:Postfix Mail Server:/var/spool/postfix:/usr/bin/false\n",
      "_scsd:*:31:31:Service Configuration Service:/var/empty:/usr/bin/false\n",
      "_ces:*:32:32:Certificate Enrollment Service:/var/empty:/usr/bin/false\n",
      "_appstore:*:33:33:Mac App Store Service:/var/empty:/usr/bin/false\n",
      "_mcxalr:*:54:54:MCX AppLaunch:/var/empty:/usr/bin/false\n",
      "_appleevents:*:55:55:AppleEvents Daemon:/var/empty:/usr/bin/false\n",
      "_geod:*:56:56:Geo Services Daemon:/var/db/geod:/usr/bin/false\n",
      "_devdocs:*:59:59:Developer Documentation:/var/empty:/usr/bin/false\n",
      "_sandbox:*:60:60:Seatbelt:/var/empty:/usr/bin/false\n",
      "_mdnsresponder:*:65:65:mDNSResponder:/var/empty:/usr/bin/false\n",
      "_ard:*:67:67:Apple Remote Desktop:/var/empty:/usr/bin/false\n",
      "_www:*:70:70:World Wide Web Server:/Library/WebServer:/usr/bin/false\n",
      "_eppc:*:71:71:Apple Events User:/var/empty:/usr/bin/false\n",
      "_cvs:*:72:72:CVS Server:/var/empty:/usr/bin/false\n",
      "_svn:*:73:73:SVN Server:/var/empty:/usr/bin/false\n",
      "_mysql:*:74:74:MySQL Server:/var/empty:/usr/bin/false\n",
      "_sshd:*:75:75:sshd Privilege separation:/var/empty:/usr/bin/false\n",
      "_qtss:*:76:76:QuickTime Streaming Server:/var/empty:/usr/bin/false\n",
      "_cyrus:*:77:6:Cyrus Administrator:/var/imap:/usr/bin/false\n",
      "_mailman:*:78:78:Mailman List Server:/var/empty:/usr/bin/false\n",
      "_appserver:*:79:79:Application Server:/var/empty:/usr/bin/false\n",
      "_clamav:*:82:82:ClamAV Daemon:/var/virusmails:/usr/bin/false\n",
      "_amavisd:*:83:83:AMaViS Daemon:/var/virusmails:/usr/bin/false\n",
      "_jabber:*:84:84:Jabber XMPP Server:/var/empty:/usr/bin/false\n",
      "_appowner:*:87:87:Application Owner:/var/empty:/usr/bin/false\n",
      "_windowserver:*:88:88:WindowServer:/var/empty:/usr/bin/false\n",
      "_spotlight:*:89:89:Spotlight:/var/empty:/usr/bin/false\n",
      "_tokend:*:91:91:Token Daemon:/var/empty:/usr/bin/false\n",
      "_securityagent:*:92:92:SecurityAgent:/var/db/securityagent:/usr/bin/false\n",
      "_calendar:*:93:93:Calendar:/var/empty:/usr/bin/false\n",
      "_teamsserver:*:94:94:TeamsServer:/var/teamsserver:/usr/bin/false\n",
      "_update_sharing:*:95:-2:Update Sharing:/var/empty:/usr/bin/false\n",
      "_installer:*:96:-2:Installer:/var/empty:/usr/bin/false\n",
      "_atsserver:*:97:97:ATS Server:/var/empty:/usr/bin/false\n",
      "_ftp:*:98:-2:FTP Daemon:/var/empty:/usr/bin/false\n",
      "_unknown:*:99:99:Unknown User:/var/empty:/usr/bin/false\n",
      "_softwareupdate:*:200:200:Software Update Service:/var/db/softwareupdate:/usr/bin/false\n",
      "_coreaudiod:*:202:202:Core Audio Daemon:/var/empty:/usr/bin/false\n",
      "_screensaver:*:203:203:Screensaver:/var/empty:/usr/bin/false\n",
      "_locationd:*:205:205:Location Daemon:/var/db/locationd:/usr/bin/false\n",
      "_trustevaluationagent:*:208:208:Trust Evaluation Agent:/var/empty:/usr/bin/false\n",
      "_timezone:*:210:210:AutoTimeZoneDaemon:/var/empty:/usr/bin/false\n",
      "_lda:*:211:211:Local Delivery Agent:/var/empty:/usr/bin/false\n",
      "_cvmsroot:*:212:212:CVMS Root:/var/empty:/usr/bin/false\n",
      "_usbmuxd:*:213:213:iPhone OS Device Helper:/var/db/lockdown:/usr/bin/false\n",
      "_dovecot:*:214:6:Dovecot Administrator:/var/empty:/usr/bin/false\n",
      "_dpaudio:*:215:215:DP Audio:/var/empty:/usr/bin/false\n",
      "_postgres:*:216:216:PostgreSQL Server:/var/empty:/usr/bin/false\n",
      "_krbtgt:*:217:-2:Kerberos Ticket Granting Ticket:/var/empty:/usr/bin/false\n",
      "_kadmin_admin:*:218:-2:Kerberos Admin Service:/var/empty:/usr/bin/false\n",
      "_kadmin_changepw:*:219:-2:Kerberos Change Password Service:/var/empty:/usr/bin/false\n",
      "_devicemgr:*:220:220:Device Management Server:/var/empty:/usr/bin/false\n",
      "_webauthserver:*:221:221:Web Auth Server:/var/empty:/usr/bin/false\n",
      "_netbios:*:222:222:NetBIOS:/var/empty:/usr/bin/false\n",
      "_warmd:*:224:224:Warm Daemon:/var/empty:/usr/bin/false\n",
      "_dovenull:*:227:227:Dovecot Authentication:/var/empty:/usr/bin/false\n",
      "_netstatistics:*:228:228:Network Statistics Daemon:/var/empty:/usr/bin/false\n",
      "_avbdeviced:*:229:-2:Ethernet AVB Device Daemon:/var/empty:/usr/bin/false\n",
      "_krb_krbtgt:*:230:-2:Open Directory Kerberos Ticket Granting Ticket:/var/empty:/usr/bin/false\n",
      "_krb_kadmin:*:231:-2:Open Directory Kerberos Admin Service:/var/empty:/usr/bin/false\n",
      "_krb_changepw:*:232:-2:Open Directory Kerberos Change Password Service:/var/empty:/usr/bin/false\n",
      "_krb_kerberos:*:233:-2:Open Directory Kerberos:/var/empty:/usr/bin/false\n",
      "_krb_anonymous:*:234:-2:Open Directory Kerberos Anonymous:/var/empty:/usr/bin/false\n",
      "_assetcache:*:235:235:Asset Cache Service:/var/empty:/usr/bin/false\n",
      "_coremediaiod:*:236:236:Core Media IO Daemon:/var/empty:/usr/bin/false\n",
      "_launchservicesd:*:239:239:_launchservicesd:/var/empty:/usr/bin/false\n",
      "_iconservices:*:240:240:IconServices:/var/empty:/usr/bin/false\n",
      "_distnote:*:241:241:DistNote:/var/empty:/usr/bin/false\n",
      "_nsurlsessiond:*:242:242:NSURLSession Daemon:/var/db/nsurlsessiond:/usr/bin/false\n",
      "_nsurlstoraged:*:243:243:NSURLStorage Daemon:/var/db/nsurlstoraged:/usr/bin/false\n",
      "_displaypolicyd:*:244:244:Display Policy Daemon:/var/empty:/usr/bin/false\n",
      "_astris:*:245:245:Astris Services:/var/db/astris:/usr/bin/false\n",
      "_krbfast:*:246:-2:Kerberos FAST Account:/var/empty:/usr/bin/false\n",
      "_gamecontrollerd:*:247:247:Game Controller Daemon:/var/empty:/usr/bin/false\n",
      "_mbsetupuser:*:248:248:Setup User:/var/setup:/bin/bash\n",
      "_ondemand:*:249:249:On Demand Resource Daemon:/var/db/ondemand:/usr/bin/false\n",
      "_xserverdocs:*:251:251:macOS Server Documents Service:/var/empty:/usr/bin/false\n",
      "_wwwproxy:*:252:252:WWW Proxy:/var/empty:/usr/bin/false\n",
      "_mobileasset:*:253:253:MobileAsset User:/var/ma:/usr/bin/false\n",
      "_findmydevice:*:254:254:Find My Device Daemon:/var/db/findmydevice:/usr/bin/false\n",
      "_datadetectors:*:257:257:DataDetectors:/var/db/datadetectors:/usr/bin/false\n",
      "_captiveagent:*:258:258:captiveagent:/var/empty:/usr/bin/false\n",
      "_ctkd:*:259:259:ctkd Account:/var/empty:/usr/bin/false\n",
      "_applepay:*:260:260:applepay Account:/var/db/applepay:/usr/bin/false\n",
      "_hidd:*:261:261:HID Service User:/var/db/hidd:/usr/bin/false\n",
      "_cmiodalassistants:*:262:262:CoreMedia IO Assistants User:/var/db/cmiodalassistants:/usr/bin/false\n",
      "_analyticsd:*:263:263:Analytics Daemon:/var/db/analyticsd:/usr/bin/false\n",
      "_fpsd:*:265:265:FPS Daemon:/var/db/fpsd:/usr/bin/false\n",
      "_timed:*:266:266:Time Sync Daemon:/var/db/timed:/usr/bin/false\n",
      "_reportmemoryexception:*:269:269:ReportMemoryException:/var/db/reportmemoryexception:/usr/bin/false\n"
     ]
    }
   ],
   "source": [
    "with open('/etc/passwd') as f:\n",
    "    try:\n",
    "        while True:\n",
    "            line = next(f)\n",
    "            print(line, end='')\n",
    "    except StopIteration:\n",
    "        pass"
   ]
  },
  {
   "cell_type": "code",
   "execution_count": 4,
   "metadata": {},
   "outputs": [
    {
     "name": "stdout",
     "output_type": "stream",
     "text": [
      "##\n",
      "# User Database\n",
      "# \n",
      "# Note that this file is consulted directly only when the system is running\n",
      "# in single-user mode.  At other times this information is provided by\n",
      "# Open Directory.\n",
      "#\n",
      "# See the opendirectoryd(8) man page for additional information about\n",
      "# Open Directory.\n",
      "##\n",
      "nobody:*:-2:-2:Unprivileged User:/var/empty:/usr/bin/false\n",
      "root:*:0:0:System Administrator:/var/root:/bin/sh\n",
      "daemon:*:1:1:System Services:/var/root:/usr/bin/false\n",
      "_uucp:*:4:4:Unix to Unix Copy Protocol:/var/spool/uucp:/usr/sbin/uucico\n",
      "_taskgated:*:13:13:Task Gate Daemon:/var/empty:/usr/bin/false\n",
      "_networkd:*:24:24:Network Services:/var/networkd:/usr/bin/false\n",
      "_installassistant:*:25:25:Install Assistant:/var/empty:/usr/bin/false\n",
      "_lp:*:26:26:Printing Services:/var/spool/cups:/usr/bin/false\n",
      "_postfix:*:27:27:Postfix Mail Server:/var/spool/postfix:/usr/bin/false\n",
      "_scsd:*:31:31:Service Configuration Service:/var/empty:/usr/bin/false\n",
      "_ces:*:32:32:Certificate Enrollment Service:/var/empty:/usr/bin/false\n",
      "_appstore:*:33:33:Mac App Store Service:/var/empty:/usr/bin/false\n",
      "_mcxalr:*:54:54:MCX AppLaunch:/var/empty:/usr/bin/false\n",
      "_appleevents:*:55:55:AppleEvents Daemon:/var/empty:/usr/bin/false\n",
      "_geod:*:56:56:Geo Services Daemon:/var/db/geod:/usr/bin/false\n",
      "_devdocs:*:59:59:Developer Documentation:/var/empty:/usr/bin/false\n",
      "_sandbox:*:60:60:Seatbelt:/var/empty:/usr/bin/false\n",
      "_mdnsresponder:*:65:65:mDNSResponder:/var/empty:/usr/bin/false\n",
      "_ard:*:67:67:Apple Remote Desktop:/var/empty:/usr/bin/false\n",
      "_www:*:70:70:World Wide Web Server:/Library/WebServer:/usr/bin/false\n",
      "_eppc:*:71:71:Apple Events User:/var/empty:/usr/bin/false\n",
      "_cvs:*:72:72:CVS Server:/var/empty:/usr/bin/false\n",
      "_svn:*:73:73:SVN Server:/var/empty:/usr/bin/false\n",
      "_mysql:*:74:74:MySQL Server:/var/empty:/usr/bin/false\n",
      "_sshd:*:75:75:sshd Privilege separation:/var/empty:/usr/bin/false\n",
      "_qtss:*:76:76:QuickTime Streaming Server:/var/empty:/usr/bin/false\n",
      "_cyrus:*:77:6:Cyrus Administrator:/var/imap:/usr/bin/false\n",
      "_mailman:*:78:78:Mailman List Server:/var/empty:/usr/bin/false\n",
      "_appserver:*:79:79:Application Server:/var/empty:/usr/bin/false\n",
      "_clamav:*:82:82:ClamAV Daemon:/var/virusmails:/usr/bin/false\n",
      "_amavisd:*:83:83:AMaViS Daemon:/var/virusmails:/usr/bin/false\n",
      "_jabber:*:84:84:Jabber XMPP Server:/var/empty:/usr/bin/false\n",
      "_appowner:*:87:87:Application Owner:/var/empty:/usr/bin/false\n",
      "_windowserver:*:88:88:WindowServer:/var/empty:/usr/bin/false\n",
      "_spotlight:*:89:89:Spotlight:/var/empty:/usr/bin/false\n",
      "_tokend:*:91:91:Token Daemon:/var/empty:/usr/bin/false\n",
      "_securityagent:*:92:92:SecurityAgent:/var/db/securityagent:/usr/bin/false\n",
      "_calendar:*:93:93:Calendar:/var/empty:/usr/bin/false\n",
      "_teamsserver:*:94:94:TeamsServer:/var/teamsserver:/usr/bin/false\n",
      "_update_sharing:*:95:-2:Update Sharing:/var/empty:/usr/bin/false\n",
      "_installer:*:96:-2:Installer:/var/empty:/usr/bin/false\n",
      "_atsserver:*:97:97:ATS Server:/var/empty:/usr/bin/false\n",
      "_ftp:*:98:-2:FTP Daemon:/var/empty:/usr/bin/false\n",
      "_unknown:*:99:99:Unknown User:/var/empty:/usr/bin/false\n",
      "_softwareupdate:*:200:200:Software Update Service:/var/db/softwareupdate:/usr/bin/false\n",
      "_coreaudiod:*:202:202:Core Audio Daemon:/var/empty:/usr/bin/false\n",
      "_screensaver:*:203:203:Screensaver:/var/empty:/usr/bin/false\n",
      "_locationd:*:205:205:Location Daemon:/var/db/locationd:/usr/bin/false\n",
      "_trustevaluationagent:*:208:208:Trust Evaluation Agent:/var/empty:/usr/bin/false\n",
      "_timezone:*:210:210:AutoTimeZoneDaemon:/var/empty:/usr/bin/false\n",
      "_lda:*:211:211:Local Delivery Agent:/var/empty:/usr/bin/false\n",
      "_cvmsroot:*:212:212:CVMS Root:/var/empty:/usr/bin/false\n",
      "_usbmuxd:*:213:213:iPhone OS Device Helper:/var/db/lockdown:/usr/bin/false\n",
      "_dovecot:*:214:6:Dovecot Administrator:/var/empty:/usr/bin/false\n",
      "_dpaudio:*:215:215:DP Audio:/var/empty:/usr/bin/false\n",
      "_postgres:*:216:216:PostgreSQL Server:/var/empty:/usr/bin/false\n",
      "_krbtgt:*:217:-2:Kerberos Ticket Granting Ticket:/var/empty:/usr/bin/false\n",
      "_kadmin_admin:*:218:-2:Kerberos Admin Service:/var/empty:/usr/bin/false\n",
      "_kadmin_changepw:*:219:-2:Kerberos Change Password Service:/var/empty:/usr/bin/false\n",
      "_devicemgr:*:220:220:Device Management Server:/var/empty:/usr/bin/false\n",
      "_webauthserver:*:221:221:Web Auth Server:/var/empty:/usr/bin/false\n",
      "_netbios:*:222:222:NetBIOS:/var/empty:/usr/bin/false\n",
      "_warmd:*:224:224:Warm Daemon:/var/empty:/usr/bin/false\n",
      "_dovenull:*:227:227:Dovecot Authentication:/var/empty:/usr/bin/false\n",
      "_netstatistics:*:228:228:Network Statistics Daemon:/var/empty:/usr/bin/false\n",
      "_avbdeviced:*:229:-2:Ethernet AVB Device Daemon:/var/empty:/usr/bin/false\n",
      "_krb_krbtgt:*:230:-2:Open Directory Kerberos Ticket Granting Ticket:/var/empty:/usr/bin/false\n",
      "_krb_kadmin:*:231:-2:Open Directory Kerberos Admin Service:/var/empty:/usr/bin/false\n",
      "_krb_changepw:*:232:-2:Open Directory Kerberos Change Password Service:/var/empty:/usr/bin/false\n",
      "_krb_kerberos:*:233:-2:Open Directory Kerberos:/var/empty:/usr/bin/false\n",
      "_krb_anonymous:*:234:-2:Open Directory Kerberos Anonymous:/var/empty:/usr/bin/false\n",
      "_assetcache:*:235:235:Asset Cache Service:/var/empty:/usr/bin/false\n",
      "_coremediaiod:*:236:236:Core Media IO Daemon:/var/empty:/usr/bin/false\n",
      "_launchservicesd:*:239:239:_launchservicesd:/var/empty:/usr/bin/false\n",
      "_iconservices:*:240:240:IconServices:/var/empty:/usr/bin/false\n",
      "_distnote:*:241:241:DistNote:/var/empty:/usr/bin/false\n",
      "_nsurlsessiond:*:242:242:NSURLSession Daemon:/var/db/nsurlsessiond:/usr/bin/false\n",
      "_nsurlstoraged:*:243:243:NSURLStorage Daemon:/var/db/nsurlstoraged:/usr/bin/false\n",
      "_displaypolicyd:*:244:244:Display Policy Daemon:/var/empty:/usr/bin/false\n",
      "_astris:*:245:245:Astris Services:/var/db/astris:/usr/bin/false\n",
      "_krbfast:*:246:-2:Kerberos FAST Account:/var/empty:/usr/bin/false\n",
      "_gamecontrollerd:*:247:247:Game Controller Daemon:/var/empty:/usr/bin/false\n",
      "_mbsetupuser:*:248:248:Setup User:/var/setup:/bin/bash\n",
      "_ondemand:*:249:249:On Demand Resource Daemon:/var/db/ondemand:/usr/bin/false\n",
      "_xserverdocs:*:251:251:macOS Server Documents Service:/var/empty:/usr/bin/false\n",
      "_wwwproxy:*:252:252:WWW Proxy:/var/empty:/usr/bin/false\n",
      "_mobileasset:*:253:253:MobileAsset User:/var/ma:/usr/bin/false\n",
      "_findmydevice:*:254:254:Find My Device Daemon:/var/db/findmydevice:/usr/bin/false\n",
      "_datadetectors:*:257:257:DataDetectors:/var/db/datadetectors:/usr/bin/false\n",
      "_captiveagent:*:258:258:captiveagent:/var/empty:/usr/bin/false\n",
      "_ctkd:*:259:259:ctkd Account:/var/empty:/usr/bin/false\n",
      "_applepay:*:260:260:applepay Account:/var/db/applepay:/usr/bin/false\n",
      "_hidd:*:261:261:HID Service User:/var/db/hidd:/usr/bin/false\n",
      "_cmiodalassistants:*:262:262:CoreMedia IO Assistants User:/var/db/cmiodalassistants:/usr/bin/false\n",
      "_analyticsd:*:263:263:Analytics Daemon:/var/db/analyticsd:/usr/bin/false\n",
      "_fpsd:*:265:265:FPS Daemon:/var/db/fpsd:/usr/bin/false\n",
      "_timed:*:266:266:Time Sync Daemon:/var/db/timed:/usr/bin/false\n",
      "_reportmemoryexception:*:269:269:ReportMemoryException:/var/db/reportmemoryexception:/usr/bin/false\n"
     ]
    }
   ],
   "source": [
    "with open('/etc/passwd') as f:\n",
    "    while True:\n",
    "        line = next(f, None)\n",
    "        if line is None:\n",
    "            break\n",
    "        print(line, end='')"
   ]
  },
  {
   "cell_type": "code",
   "execution_count": 5,
   "metadata": {
    "collapsed": true
   },
   "outputs": [],
   "source": [
    "items = [1, 2, 3]"
   ]
  },
  {
   "cell_type": "code",
   "execution_count": 7,
   "metadata": {},
   "outputs": [
    {
     "data": {
      "text/plain": [
       "<list_iterator at 0x10665d978>"
      ]
     },
     "execution_count": 7,
     "metadata": {},
     "output_type": "execute_result"
    }
   ],
   "source": [
    "it = iter(items)\n",
    "it"
   ]
  },
  {
   "cell_type": "code",
   "execution_count": 9,
   "metadata": {},
   "outputs": [
    {
     "ename": "StopIteration",
     "evalue": "",
     "output_type": "error",
     "traceback": [
      "\u001b[0;31m---------------------------------------------------------------------------\u001b[0m",
      "\u001b[0;31mStopIteration\u001b[0m                             Traceback (most recent call last)",
      "\u001b[0;32m<ipython-input-9-312033e5f8fe>\u001b[0m in \u001b[0;36m<module>\u001b[0;34m()\u001b[0m\n\u001b[0;32m----> 1\u001b[0;31m \u001b[0mnext\u001b[0m\u001b[0;34m(\u001b[0m\u001b[0mit\u001b[0m\u001b[0;34m)\u001b[0m\u001b[0;34m\u001b[0m\u001b[0m\n\u001b[0m\u001b[1;32m      2\u001b[0m \u001b[0mnext\u001b[0m\u001b[0;34m(\u001b[0m\u001b[0mit\u001b[0m\u001b[0;34m)\u001b[0m\u001b[0;34m\u001b[0m\u001b[0m\n\u001b[1;32m      3\u001b[0m \u001b[0mnext\u001b[0m\u001b[0;34m(\u001b[0m\u001b[0mit\u001b[0m\u001b[0;34m)\u001b[0m\u001b[0;34m\u001b[0m\u001b[0m\n\u001b[1;32m      4\u001b[0m \u001b[0mnext\u001b[0m\u001b[0;34m(\u001b[0m\u001b[0mit\u001b[0m\u001b[0;34m)\u001b[0m\u001b[0;34m\u001b[0m\u001b[0m\n",
      "\u001b[0;31mStopIteration\u001b[0m: "
     ]
    }
   ],
   "source": [
    "next(it)\n",
    "next(it)\n",
    "next(it)\n",
    "next(it)"
   ]
  },
  {
   "cell_type": "code",
   "execution_count": 3,
   "metadata": {},
   "outputs": [
    {
     "ename": "NameError",
     "evalue": "name 'Node' is not defined",
     "output_type": "error",
     "traceback": [
      "\u001b[0;31m---------------------------------------------------------------------------\u001b[0m",
      "\u001b[0;31mNameError\u001b[0m                                 Traceback (most recent call last)",
      "\u001b[0;32m<ipython-input-3-4afbd5b555ed>\u001b[0m in \u001b[0;36m<module>\u001b[0;34m()\u001b[0m\n\u001b[0;32m----> 1\u001b[0;31m \u001b[0;32mclass\u001b[0m \u001b[0mNode\u001b[0m\u001b[0;34m:\u001b[0m\u001b[0;34m\u001b[0m\u001b[0m\n\u001b[0m\u001b[1;32m      2\u001b[0m     \u001b[0;32mdef\u001b[0m \u001b[0m__init__\u001b[0m\u001b[0;34m(\u001b[0m\u001b[0mself\u001b[0m\u001b[0;34m,\u001b[0m \u001b[0mvalue\u001b[0m\u001b[0;34m)\u001b[0m\u001b[0;34m:\u001b[0m\u001b[0;34m\u001b[0m\u001b[0m\n\u001b[1;32m      3\u001b[0m         \u001b[0mself\u001b[0m\u001b[0;34m.\u001b[0m\u001b[0m_value\u001b[0m \u001b[0;34m=\u001b[0m \u001b[0mvalue\u001b[0m\u001b[0;34m\u001b[0m\u001b[0m\n\u001b[1;32m      4\u001b[0m         \u001b[0mself\u001b[0m\u001b[0;34m.\u001b[0m\u001b[0m_children\u001b[0m \u001b[0;34m=\u001b[0m \u001b[0;34m[\u001b[0m\u001b[0;34m]\u001b[0m\u001b[0;34m\u001b[0m\u001b[0m\n\u001b[1;32m      5\u001b[0m     \u001b[0;32mdef\u001b[0m \u001b[0m__repr__\u001b[0m\u001b[0;34m(\u001b[0m\u001b[0mself\u001b[0m\u001b[0;34m)\u001b[0m\u001b[0;34m:\u001b[0m\u001b[0;34m\u001b[0m\u001b[0m\n",
      "\u001b[0;32m<ipython-input-3-4afbd5b555ed>\u001b[0m in \u001b[0;36mNode\u001b[0;34m()\u001b[0m\n\u001b[1;32m     11\u001b[0m     \u001b[0;31m# Example\u001b[0m\u001b[0;34m\u001b[0m\u001b[0;34m\u001b[0m\u001b[0m\n\u001b[1;32m     12\u001b[0m     \u001b[0;32mif\u001b[0m \u001b[0m__name__\u001b[0m \u001b[0;34m==\u001b[0m \u001b[0;34m'__main__'\u001b[0m\u001b[0;34m:\u001b[0m\u001b[0;34m\u001b[0m\u001b[0m\n\u001b[0;32m---> 13\u001b[0;31m         \u001b[0mroot\u001b[0m \u001b[0;34m=\u001b[0m \u001b[0mNode\u001b[0m\u001b[0;34m(\u001b[0m\u001b[0;36m0\u001b[0m\u001b[0;34m)\u001b[0m\u001b[0;34m\u001b[0m\u001b[0m\n\u001b[0m\u001b[1;32m     14\u001b[0m         \u001b[0mchild1\u001b[0m \u001b[0;34m=\u001b[0m \u001b[0mNode\u001b[0m\u001b[0;34m(\u001b[0m\u001b[0;36m1\u001b[0m\u001b[0;34m)\u001b[0m\u001b[0;34m\u001b[0m\u001b[0m\n\u001b[1;32m     15\u001b[0m         \u001b[0mchild2\u001b[0m \u001b[0;34m=\u001b[0m \u001b[0mNode\u001b[0m\u001b[0;34m(\u001b[0m\u001b[0;36m2\u001b[0m\u001b[0;34m)\u001b[0m\u001b[0;34m\u001b[0m\u001b[0m\n",
      "\u001b[0;31mNameError\u001b[0m: name 'Node' is not defined"
     ]
    }
   ],
   "source": [
    "class Node:\n",
    "    def __init__(self, value):\n",
    "        self._value = value\n",
    "        self._children = []\n",
    "    def __repr__(self):\n",
    "        return 'Node({!r})'.format(self._value)\n",
    "    def add_child(self, node):\n",
    "        self._children.append(node)\n",
    "    def __iter__(self):\n",
    "        return iter(self._children)\n",
    "    # Example\n",
    "    if __name__ == '__main__':\n",
    "        root = Node(0)\n",
    "        child1 = Node(1)\n",
    "        child2 = Node(2)\n",
    "        root.add_child(child1)\n",
    "        root.add_child(child2)\n",
    "        for ch in root:\n",
    "            print(ch)\n",
    "        # Outputs Node(1), Node(2)"
   ]
  },
  {
   "cell_type": "markdown",
   "metadata": {
    "collapsed": true
   },
   "source": [
    "Creating New Iteration Patterns with Generators"
   ]
  },
  {
   "cell_type": "code",
   "execution_count": 1,
   "metadata": {
    "collapsed": true
   },
   "outputs": [],
   "source": [
    "def frange(start, stop, increment):\n",
    "    x = start\n",
    "    while x < stop:\n",
    "        yield x\n",
    "        x += increment"
   ]
  },
  {
   "cell_type": "code",
   "execution_count": 3,
   "metadata": {},
   "outputs": [
    {
     "data": {
      "text/plain": [
       "[0.5, 1.0, 1.5, 2.0, 2.5, 3.0, 3.5]"
      ]
     },
     "execution_count": 3,
     "metadata": {},
     "output_type": "execute_result"
    }
   ],
   "source": [
    "[i for i in frange(0.5,4,0.5)]"
   ]
  },
  {
   "cell_type": "code",
   "execution_count": 5,
   "metadata": {},
   "outputs": [
    {
     "data": {
      "text/plain": [
       "[0.5, 1.0, 1.5, 2.0, 2.5, 3.0, 3.5]"
      ]
     },
     "execution_count": 5,
     "metadata": {},
     "output_type": "execute_result"
    }
   ],
   "source": [
    "list(frange(0.5,4,0.5))"
   ]
  },
  {
   "cell_type": "code",
   "execution_count": 13,
   "metadata": {
    "collapsed": true
   },
   "outputs": [],
   "source": [
    "def countdown(n):\n",
    "    print(\"Starting to count from:\\t\",n)\n",
    "    while n > 0:\n",
    "        yield n\n",
    "        n -= 1\n",
    "    print(\"Done!\")"
   ]
  },
  {
   "cell_type": "code",
   "execution_count": 14,
   "metadata": {
    "collapsed": true
   },
   "outputs": [],
   "source": [
    "c = countdown(4)"
   ]
  },
  {
   "cell_type": "code",
   "execution_count": 15,
   "metadata": {},
   "outputs": [
    {
     "name": "stdout",
     "output_type": "stream",
     "text": [
      "('Starting to count from:\\t', 4)\n"
     ]
    },
    {
     "data": {
      "text/plain": [
       "4"
      ]
     },
     "execution_count": 15,
     "metadata": {},
     "output_type": "execute_result"
    }
   ],
   "source": [
    "\n",
    "next(c)"
   ]
  },
  {
   "cell_type": "code",
   "execution_count": 17,
   "metadata": {},
   "outputs": [
    {
     "data": {
      "text/plain": [
       "2"
      ]
     },
     "execution_count": 17,
     "metadata": {},
     "output_type": "execute_result"
    }
   ],
   "source": [
    "\n",
    "next(c)"
   ]
  },
  {
   "cell_type": "code",
   "execution_count": 16,
   "metadata": {},
   "outputs": [
    {
     "data": {
      "text/plain": [
       "3"
      ]
     },
     "execution_count": 16,
     "metadata": {},
     "output_type": "execute_result"
    }
   ],
   "source": [
    "\n",
    "next(c)"
   ]
  },
  {
   "cell_type": "code",
   "execution_count": 18,
   "metadata": {},
   "outputs": [
    {
     "data": {
      "text/plain": [
       "1"
      ]
     },
     "execution_count": 18,
     "metadata": {},
     "output_type": "execute_result"
    }
   ],
   "source": [
    "\n",
    "next(c)"
   ]
  },
  {
   "cell_type": "code",
   "execution_count": 19,
   "metadata": {},
   "outputs": [
    {
     "name": "stdout",
     "output_type": "stream",
     "text": [
      "Done!\n"
     ]
    },
    {
     "ename": "StopIteration",
     "evalue": "",
     "output_type": "error",
     "traceback": [
      "\u001b[1;31m---------------------------------------------------------------------------\u001b[0m",
      "\u001b[1;31mStopIteration\u001b[0m                             Traceback (most recent call last)",
      "\u001b[1;32m<ipython-input-19-2a1b41f9a454>\u001b[0m in \u001b[0;36m<module>\u001b[1;34m()\u001b[0m\n\u001b[0;32m      1\u001b[0m \u001b[1;33m\u001b[0m\u001b[0m\n\u001b[1;32m----> 2\u001b[1;33m \u001b[0mnext\u001b[0m\u001b[1;33m(\u001b[0m\u001b[0mc\u001b[0m\u001b[1;33m)\u001b[0m\u001b[1;33m\u001b[0m\u001b[0m\n\u001b[0m",
      "\u001b[1;31mStopIteration\u001b[0m: "
     ]
    }
   ],
   "source": [
    "\n",
    "next(c)"
   ]
  },
  {
   "cell_type": "markdown",
   "metadata": {
    "collapsed": true
   },
   "source": [
    "Implementing the Iterator Protocol"
   ]
  },
  {
   "cell_type": "markdown",
   "metadata": {
    "collapsed": true
   },
   "source": [
    "Iterating in Reverse"
   ]
  },
  {
   "cell_type": "code",
   "execution_count": 21,
   "metadata": {},
   "outputs": [
    {
     "name": "stdout",
     "output_type": "stream",
     "text": [
      "4\n",
      "3\n",
      "2\n",
      "1\n"
     ]
    }
   ],
   "source": [
    "a = [1, 2, 3, 4]\n",
    "for x in reversed(a):\n",
    "    print(x)"
   ]
  },
  {
   "cell_type": "code",
   "execution_count": 22,
   "metadata": {
    "collapsed": true
   },
   "outputs": [],
   "source": [
    "class Countdown:\n",
    "    def __init__(self,start):\n",
    "        self.start = start\n",
    "    def __reversed__(self):\n",
    "        n=1\n",
    "        while n <= self.start:\n",
    "            yield n\n",
    "            n += 1"
   ]
  },
  {
   "cell_type": "code",
   "execution_count": 25,
   "metadata": {
    "collapsed": true
   },
   "outputs": [],
   "source": [
    "c= Countdown(5)"
   ]
  },
  {
   "cell_type": "code",
   "execution_count": 32,
   "metadata": {
    "collapsed": true
   },
   "outputs": [],
   "source": [
    "def count(n):\n",
    "    while True:\n",
    "        yield n\n",
    "        n += 1"
   ]
  },
  {
   "cell_type": "code",
   "execution_count": 36,
   "metadata": {},
   "outputs": [
    {
     "ename": "TypeError",
     "evalue": "iteration over non-sequence",
     "output_type": "error",
     "traceback": [
      "\u001b[1;31m---------------------------------------------------------------------------\u001b[0m",
      "\u001b[1;31mTypeError\u001b[0m                                 Traceback (most recent call last)",
      "\u001b[1;32m<ipython-input-36-5ed9f6c2dd74>\u001b[0m in \u001b[0;36m<module>\u001b[1;34m()\u001b[0m\n\u001b[0;32m      1\u001b[0m \u001b[1;32mimport\u001b[0m \u001b[0mitertools\u001b[0m\u001b[1;33m\u001b[0m\u001b[0m\n\u001b[1;32m----> 2\u001b[1;33m \u001b[1;32mfor\u001b[0m \u001b[0mx\u001b[0m \u001b[1;32min\u001b[0m \u001b[0mitertools\u001b[0m\u001b[1;33m.\u001b[0m\u001b[0mislice\u001b[0m\u001b[1;33m(\u001b[0m\u001b[0mc\u001b[0m\u001b[1;33m,\u001b[0m \u001b[1;36m10\u001b[0m\u001b[1;33m,\u001b[0m \u001b[1;36m20\u001b[0m\u001b[1;33m)\u001b[0m\u001b[1;33m:\u001b[0m\u001b[1;33m\u001b[0m\u001b[0m\n\u001b[0m\u001b[0;32m      3\u001b[0m     \u001b[1;32mprint\u001b[0m\u001b[1;33m(\u001b[0m\u001b[0mx\u001b[0m\u001b[1;33m)\u001b[0m\u001b[1;33m\u001b[0m\u001b[0m\n",
      "\u001b[1;31mTypeError\u001b[0m: iteration over non-sequence"
     ]
    }
   ],
   "source": [
    "import itertools\n",
    "for x in itertools.islice(c, 10, 20):\n",
    "    print(x)"
   ]
  },
  {
   "cell_type": "markdown",
   "metadata": {
    "collapsed": true
   },
   "source": [
    "Skipping the First Part of an Iterable"
   ]
  },
  {
   "cell_type": "code",
   "execution_count": 1,
   "metadata": {
    "collapsed": true
   },
   "outputs": [],
   "source": [
    "from itertools import islice"
   ]
  },
  {
   "cell_type": "code",
   "execution_count": 3,
   "metadata": {},
   "outputs": [
    {
     "name": "stdout",
     "output_type": "stream",
     "text": [
      "1\n",
      "4\n",
      "10\n",
      "15\n"
     ]
    }
   ],
   "source": [
    "items = ['a', 'b', 'c', 1, 4, 10, 15]\n",
    "for x in islice(items, 3, None):\n",
    "    print(x)"
   ]
  },
  {
   "cell_type": "markdown",
   "metadata": {},
   "source": [
    "Iterating Over All Possible Combinations or Permutations"
   ]
  },
  {
   "cell_type": "code",
   "execution_count": 2,
   "metadata": {
    "collapsed": true
   },
   "outputs": [],
   "source": [
    "items = ['a', 'b', 'c']"
   ]
  },
  {
   "cell_type": "code",
   "execution_count": 4,
   "metadata": {},
   "outputs": [
    {
     "name": "stdout",
     "output_type": "stream",
     "text": [
      "('a', 'b', 'c')\n",
      "('a', 'c', 'b')\n",
      "('b', 'a', 'c')\n",
      "('b', 'c', 'a')\n",
      "('c', 'a', 'b')\n",
      "('c', 'b', 'a')\n"
     ]
    }
   ],
   "source": [
    "from itertools import permutations\n",
    "for p in permutations(items):\n",
    "    print(p)"
   ]
  },
  {
   "cell_type": "code",
   "execution_count": 4,
   "metadata": {},
   "outputs": [
    {
     "name": "stdout",
     "output_type": "stream",
     "text": [
      "('a', 'b')\n",
      "('a', 'c')\n",
      "('b', 'c')\n"
     ]
    }
   ],
   "source": [
    "from itertools import combinations\n",
    "for c in combinations(items,2):\n",
    "    print(c)"
   ]
  },
  {
   "cell_type": "code",
   "execution_count": 5,
   "metadata": {},
   "outputs": [
    {
     "name": "stdout",
     "output_type": "stream",
     "text": [
      "('a',)\n",
      "('b',)\n",
      "('c',)\n"
     ]
    }
   ],
   "source": [
    "from itertools import combinations\n",
    "for c in combinations(items,1):\n",
    "    print(c)"
   ]
  },
  {
   "cell_type": "code",
   "execution_count": 10,
   "metadata": {},
   "outputs": [
    {
     "name": "stdout",
     "output_type": "stream",
     "text": [
      "('a', 'a', 'a')\n",
      "('a', 'a', 'b')\n",
      "('a', 'a', 'c')\n",
      "('a', 'b', 'b')\n",
      "('a', 'b', 'c')\n",
      "('a', 'c', 'c')\n",
      "('b', 'b', 'b')\n",
      "('b', 'b', 'c')\n",
      "('b', 'c', 'c')\n",
      "('c', 'c', 'c')\n"
     ]
    }
   ],
   "source": [
    "import itertools\n",
    "for c in itertools.combinations_with_replacement(items, 3):\n",
    "    print(c)"
   ]
  },
  {
   "cell_type": "markdown",
   "metadata": {
    "collapsed": true
   },
   "source": [
    "Iterating Over the Index-Value Pairs of a Sequence"
   ]
  },
  {
   "cell_type": "code",
   "execution_count": 13,
   "metadata": {},
   "outputs": [
    {
     "name": "stdout",
     "output_type": "stream",
     "text": [
      "0 a\n",
      "1 b\n",
      "2 c\n"
     ]
    }
   ],
   "source": [
    "my_list = ['a', 'b', 'c']\n",
    "for idx, val in enumerate(my_list):\n",
    "    print(idx, val)"
   ]
  },
  {
   "cell_type": "code",
   "execution_count": 16,
   "metadata": {},
   "outputs": [
    {
     "name": "stdout",
     "output_type": "stream",
     "text": [
      "1 a\n",
      "2 b\n",
      "3 c\n"
     ]
    }
   ],
   "source": [
    "my_list = ['a', 'b', 'c']\n",
    "for idx, val in enumerate(my_list, 1):\n",
    "    print(idx,val)"
   ]
  },
  {
   "cell_type": "code",
   "execution_count": 19,
   "metadata": {},
   "outputs": [
    {
     "name": "stdout",
     "output_type": "stream",
     "text": [
      "0 1 2\n",
      "1 3 4\n",
      "2 5 6\n",
      "3 7 8\n"
     ]
    }
   ],
   "source": [
    "data = [ (1, 2), (3, 4), (5, 6), (7, 8) ]\n",
    "# Correct!\n",
    "for n, (x, y) in enumerate(data):\n",
    "    print(n,x,y)"
   ]
  },
  {
   "cell_type": "code",
   "execution_count": 20,
   "metadata": {},
   "outputs": [
    {
     "name": "stdout",
     "output_type": "stream",
     "text": [
      "1 101\n",
      "5 78\n",
      "4 37\n",
      "2 15\n",
      "10 62\n",
      "7 99\n"
     ]
    }
   ],
   "source": [
    "xpts = [1, 5, 4, 2, 10, 7]\n",
    "ypts = [101, 78, 37, 15, 62, 99]\n",
    "for x, y in zip(xpts, ypts):\n",
    "    print(x,y)"
   ]
  },
  {
   "cell_type": "code",
   "execution_count": 21,
   "metadata": {},
   "outputs": [
    {
     "name": "stdout",
     "output_type": "stream",
     "text": [
      "(1, 'w')\n",
      "(2, 'x')\n",
      "(3, 'y')\n",
      "(None, 'z')\n"
     ]
    }
   ],
   "source": [
    "a = [1, 2, 3]\n",
    "b = ['w', 'x', 'y', 'z']\n",
    "from itertools import zip_longest\n",
    "for i in zip_longest(a,b):\n",
    "    print(i)"
   ]
  },
  {
   "cell_type": "code",
   "execution_count": 23,
   "metadata": {
    "collapsed": true
   },
   "outputs": [],
   "source": [
    "headers = ['name', 'shares', 'price']\n",
    "values = ['ACME', 100, 490.1]\n",
    "s = dict(zip(headers,values))"
   ]
  },
  {
   "cell_type": "code",
   "execution_count": 26,
   "metadata": {},
   "outputs": [
    {
     "name": "stdout",
     "output_type": "stream",
     "text": [
      "name ACME\n",
      "shares 100\n",
      "price 490.1\n"
     ]
    }
   ],
   "source": [
    "for k,v in s.items():\n",
    "    print(k,v)"
   ]
  },
  {
   "cell_type": "code",
   "execution_count": 28,
   "metadata": {},
   "outputs": [
    {
     "name": "stdout",
     "output_type": "stream",
     "text": [
      "name = ACME\n",
      "shares = 100\n",
      "price = 490.1\n"
     ]
    }
   ],
   "source": [
    "for name, val in zip(headers, values):\n",
    "    print(name, '=', val)"
   ]
  },
  {
   "cell_type": "code",
   "execution_count": 29,
   "metadata": {},
   "outputs": [
    {
     "name": "stdout",
     "output_type": "stream",
     "text": [
      "1\n",
      "2\n",
      "3\n",
      "4\n",
      "x\n",
      "y\n",
      "z\n"
     ]
    }
   ],
   "source": [
    "from itertools import chain\n",
    "a = [1, 2, 3, 4]\n",
    "b = ['x', 'y', 'z']\n",
    "for x in chain(a, b):\n",
    "    print(x)"
   ]
  },
  {
   "cell_type": "code",
   "execution_count": 30,
   "metadata": {},
   "outputs": [
    {
     "ename": "SyntaxError",
     "evalue": "unexpected EOF while parsing (<ipython-input-30-1d568774ac89>, line 6)",
     "output_type": "error",
     "traceback": [
      "\u001b[0;36m  File \u001b[0;32m\"<ipython-input-30-1d568774ac89>\"\u001b[0;36m, line \u001b[0;32m6\u001b[0m\n\u001b[0;31m    # Process item\u001b[0m\n\u001b[0m                  ^\u001b[0m\n\u001b[0;31mSyntaxError\u001b[0m\u001b[0;31m:\u001b[0m unexpected EOF while parsing\n"
     ]
    }
   ],
   "source": [
    "# Various working sets of items\n",
    "active_items = set()\n",
    "inactive_items = set()\n",
    "# Iterate over all items\n",
    "for item in chain(active_items, inactive_items):\n",
    "    # Process item\n"
   ]
  },
  {
   "cell_type": "markdown",
   "metadata": {},
   "source": [
    "Flattening a Nested Sequence"
   ]
  },
  {
   "cell_type": "code",
   "execution_count": 31,
   "metadata": {},
   "outputs": [
    {
     "name": "stdout",
     "output_type": "stream",
     "text": [
      "1\n",
      "2\n",
      "3\n",
      "4\n",
      "5\n",
      "6\n",
      "7\n",
      "8\n"
     ]
    }
   ],
   "source": [
    "from collections import Iterable\n",
    "def flatten(items, ignore_types=(str, bytes)):\n",
    "    for x in items:\n",
    "        if isinstance(x, Iterable) and not isinstance(x, ignore_types):\n",
    "            yield from flatten(x)\n",
    "        else:\n",
    "            yield x\n",
    "items = [1, 2, [3, 4, [5, 6], 7], 8]\n",
    "# Produces 1 2 3 4 5 6 7 8\n",
    "for x in flatten(items):\n",
    "    print(x)"
   ]
  },
  {
   "cell_type": "code",
   "execution_count": 32,
   "metadata": {},
   "outputs": [
    {
     "name": "stdout",
     "output_type": "stream",
     "text": [
      "Dave\n",
      "Paula\n",
      "Thomas\n",
      "Lewis\n"
     ]
    }
   ],
   "source": [
    "items = ['Dave', 'Paula', ['Thomas', 'Lewis']]\n",
    "for x in flatten(items):\n",
    "    print(x)"
   ]
  },
  {
   "cell_type": "markdown",
   "metadata": {},
   "source": [
    "Iterating in Sorted Order Over Merged Sorted\n",
    "Iterables"
   ]
  },
  {
   "cell_type": "code",
   "execution_count": 34,
   "metadata": {
    "collapsed": true
   },
   "outputs": [],
   "source": [
    "import heapq"
   ]
  },
  {
   "cell_type": "code",
   "execution_count": 35,
   "metadata": {},
   "outputs": [
    {
     "name": "stdout",
     "output_type": "stream",
     "text": [
      "1\n",
      "2\n",
      "4\n",
      "5\n",
      "6\n",
      "7\n",
      "10\n",
      "11\n"
     ]
    }
   ],
   "source": [
    "a = [1, 4, 7, 10]\n",
    "b = [2, 5, 6, 11]\n",
    "for c in heapq.merge(a, b):\n",
    "    print(c)"
   ]
  },
  {
   "cell_type": "markdown",
   "metadata": {},
   "source": [
    "Replacing Infinite while Loops with an Iterator"
   ]
  },
  {
   "cell_type": "code",
   "execution_count": 36,
   "metadata": {
    "collapsed": true
   },
   "outputs": [],
   "source": [
    "def reader(s):\n",
    "    for chunk in iter(lambda: s.recv(CHUNKSIZE), b''):\n",
    "        process_data(data)"
   ]
  },
  {
   "cell_type": "code",
   "execution_count": null,
   "metadata": {
    "collapsed": true
   },
   "outputs": [],
   "source": []
  },
  {
   "cell_type": "code",
   "execution_count": null,
   "metadata": {
    "collapsed": true
   },
   "outputs": [],
   "source": []
  },
  {
   "cell_type": "code",
   "execution_count": null,
   "metadata": {
    "collapsed": true
   },
   "outputs": [],
   "source": []
  },
  {
   "cell_type": "code",
   "execution_count": null,
   "metadata": {
    "collapsed": true
   },
   "outputs": [],
   "source": []
  },
  {
   "cell_type": "code",
   "execution_count": null,
   "metadata": {
    "collapsed": true
   },
   "outputs": [],
   "source": []
  },
  {
   "cell_type": "code",
   "execution_count": null,
   "metadata": {
    "collapsed": true
   },
   "outputs": [],
   "source": []
  },
  {
   "cell_type": "code",
   "execution_count": null,
   "metadata": {
    "collapsed": true
   },
   "outputs": [],
   "source": []
  },
  {
   "cell_type": "code",
   "execution_count": null,
   "metadata": {
    "collapsed": true
   },
   "outputs": [],
   "source": []
  }
 ],
 "metadata": {
  "kernelspec": {
   "display_name": "Python 3",
   "language": "python",
   "name": "python3"
  },
  "language_info": {
   "codemirror_mode": {
    "name": "ipython",
    "version": 3
   },
   "file_extension": ".py",
   "mimetype": "text/x-python",
   "name": "python",
   "nbconvert_exporter": "python",
   "pygments_lexer": "ipython3",
   "version": "3.6.4"
  }
 },
 "nbformat": 4,
 "nbformat_minor": 2
}
