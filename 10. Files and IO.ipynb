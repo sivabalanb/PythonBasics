{
 "cells": [
  {
   "cell_type": "markdown",
   "metadata": {},
   "source": [
    "Files and I/O"
   ]
  },
  {
   "cell_type": "code",
   "execution_count": 1,
   "metadata": {
    "collapsed": true
   },
   "outputs": [],
   "source": [
    "# Read the entire file as a single string\n",
    "with open('README.md', 'rt') as f:\n",
    "    data = f.read()"
   ]
  },
  {
   "cell_type": "code",
   "execution_count": 2,
   "metadata": {},
   "outputs": [
    {
     "name": "stdout",
     "output_type": "stream",
     "text": [
      "# PythonBasics\n",
      "- Data Structures\n",
      "- Looping and Branching\n",
      "- File Operations\n",
      "- Class\n",
      "- Heapq and OrderedDict\n",
      "- ChainedMap\n",
      "- Strings and Text\n",
      "- Number, Date and Time\n",
      "- Iterators and Generators\n",
      "\n"
     ]
    }
   ],
   "source": [
    "print(data)"
   ]
  },
  {
   "cell_type": "code",
   "execution_count": null,
   "metadata": {
    "collapsed": true
   },
   "outputs": [],
   "source": [
    "with open('README.md', 'wt') as f:\n",
    "    print(line1, file=f)\n",
    "    print(line2, file=f)"
   ]
  },
  {
   "cell_type": "code",
   "execution_count": 6,
   "metadata": {
    "collapsed": true
   },
   "outputs": [],
   "source": [
    "f = open('README.md', 'rt')\n",
    "data = f.read()\n",
    "f.close()"
   ]
  },
  {
   "cell_type": "code",
   "execution_count": 7,
   "metadata": {
    "collapsed": true
   },
   "outputs": [],
   "source": [
    "# Read the entire file as a single byte string\n",
    "with open('README.md', 'rb') as f:\n",
    "    data = f.read()\n",
    "# Write binary data to a file\n",
    "with open('somefile.bin', 'wb') as f:\n",
    "    f.write(b'Hello World')"
   ]
  },
  {
   "cell_type": "code",
   "execution_count": 8,
   "metadata": {},
   "outputs": [
    {
     "name": "stdout",
     "output_type": "stream",
     "text": [
      "72\n"
     ]
    }
   ],
   "source": [
    "# Byte String\n",
    "b = b'Hello World'\n",
    "print(b[0])"
   ]
  },
  {
   "cell_type": "code",
   "execution_count": 9,
   "metadata": {},
   "outputs": [
    {
     "name": "stdout",
     "output_type": "stream",
     "text": [
      "72\n",
      "101\n",
      "108\n",
      "108\n",
      "111\n",
      "32\n",
      "87\n",
      "111\n",
      "114\n",
      "108\n",
      "100\n"
     ]
    }
   ],
   "source": [
    "for c in b:\n",
    "    print(c)"
   ]
  },
  {
   "cell_type": "code",
   "execution_count": 1,
   "metadata": {
    "collapsed": true
   },
   "outputs": [],
   "source": [
    "import array\n",
    "nums = array.array('i', [1, 2, 3, 4])\n",
    "with open('data.bin','wb') as f:\n",
    "    f.write(nums)"
   ]
  },
  {
   "cell_type": "code",
   "execution_count": 4,
   "metadata": {},
   "outputs": [
    {
     "name": "stdout",
     "output_type": "stream",
     "text": [
      "array('i', [1, 2, 3, 4, 0, 0, 0, 0])\n"
     ]
    }
   ],
   "source": [
    "import array\n",
    "a = array.array('i', [0, 0, 0, 0, 0, 0, 0, 0])\n",
    "with open('data.bin', 'rb') as f:\n",
    "        f.readinto(a)\n",
    "        print(a)"
   ]
  },
  {
   "cell_type": "markdown",
   "metadata": {
    "collapsed": true
   },
   "source": [
    "Writing to a File That Doesn’t Already Exist"
   ]
  },
  {
   "cell_type": "code",
   "execution_count": 5,
   "metadata": {},
   "outputs": [
    {
     "ename": "ValueError",
     "evalue": "mode string must begin with one of 'r', 'w', 'a' or 'U', not 'xt'",
     "output_type": "error",
     "traceback": [
      "\u001b[1;31m---------------------------------------------------------------------------\u001b[0m",
      "\u001b[1;31mValueError\u001b[0m                                Traceback (most recent call last)",
      "\u001b[1;32m<ipython-input-5-5292f04cfc29>\u001b[0m in \u001b[0;36m<module>\u001b[1;34m()\u001b[0m\n\u001b[1;32m----> 1\u001b[1;33m \u001b[1;32mwith\u001b[0m \u001b[0mopen\u001b[0m\u001b[1;33m(\u001b[0m\u001b[1;34m'somefile'\u001b[0m\u001b[1;33m,\u001b[0m \u001b[1;34m'xt'\u001b[0m\u001b[1;33m)\u001b[0m \u001b[1;32mas\u001b[0m \u001b[0mf\u001b[0m\u001b[1;33m:\u001b[0m\u001b[1;33m\u001b[0m\u001b[0m\n\u001b[0m\u001b[0;32m      2\u001b[0m     \u001b[0mf\u001b[0m\u001b[1;33m.\u001b[0m\u001b[0mwrite\u001b[0m\u001b[1;33m(\u001b[0m\u001b[1;34m'Hello\\n'\u001b[0m\u001b[1;33m)\u001b[0m\u001b[1;33m\u001b[0m\u001b[0m\n",
      "\u001b[1;31mValueError\u001b[0m: mode string must begin with one of 'r', 'w', 'a' or 'U', not 'xt'"
     ]
    }
   ],
   "source": [
    "with open('somefile', 'xt') as f:\n",
    "    f.write('Hello\\n')"
   ]
  },
  {
   "cell_type": "markdown",
   "metadata": {
    "collapsed": true
   },
   "source": [
    "Performing I/O Operations on a String"
   ]
  },
  {
   "cell_type": "code",
   "execution_count": null,
   "metadata": {
    "collapsed": true
   },
   "outputs": [],
   "source": [
    "import io\n",
    "s = io.StringIO()\n",
    "s.write('Hello World\\n')\n",
    "\n",
    "s.getvalue()"
   ]
  },
  {
   "cell_type": "code",
   "execution_count": null,
   "metadata": {
    "collapsed": true
   },
   "outputs": [],
   "source": [
    "s = io.StringIO('Hello\\nWorld\\n')\n",
    "s.read(4)"
   ]
  },
  {
   "cell_type": "markdown",
   "metadata": {},
   "source": [
    "Memory map"
   ]
  },
  {
   "cell_type": "code",
   "execution_count": null,
   "metadata": {
    "collapsed": true
   },
   "outputs": [],
   "source": [
    "m = memory_map('data')\n",
    "v = memoryview(m).cast('I')\n",
    "v[0] = 7\n",
    "m[0:4]"
   ]
  },
  {
   "cell_type": "markdown",
   "metadata": {},
   "source": [
    "Manipulating Pathnames"
   ]
  },
  {
   "cell_type": "code",
   "execution_count": null,
   "metadata": {
    "collapsed": true
   },
   "outputs": [],
   "source": [
    "import os\n",
    "path = 'test.py'\n",
    "# Get the last component of the path\n",
    "print(os.path.basename(path))\n",
    "\n",
    "\n",
    "# Get the directory name\n",
    "print(os.path.dirname(path))\n",
    "\n",
    "# Join path components together\n",
    "print(os.path.join('tmp', 'data', os.path.basename(path)))\n",
    "\n",
    "# Expand the user's home directory\n",
    "path = '~/test.py'\n",
    "print(os.path.expanduser(path))\n",
    "\n",
    "# Split the file extension\n",
    "print(os.path.splitext(path))\n"
   ]
  },
  {
   "cell_type": "markdown",
   "metadata": {},
   "source": [
    "Printing Bad Filenames"
   ]
  },
  {
   "cell_type": "code",
   "execution_count": null,
   "metadata": {
    "collapsed": true
   },
   "outputs": [],
   "source": [
    "def bad_filename(filename):\n",
    "    return repr(filename)[1:-1]\n",
    "try:\n",
    "    print(filename)\n",
    "except UnicodeEncodeError:\n",
    "    print(bad_filename(filename))"
   ]
  },
  {
   "cell_type": "markdown",
   "metadata": {},
   "source": [
    "Size of a file"
   ]
  },
  {
   "cell_type": "code",
   "execution_count": 3,
   "metadata": {},
   "outputs": [
    {
     "data": {
      "text/plain": [
       "6804"
      ]
     },
     "execution_count": 3,
     "metadata": {},
     "output_type": "execute_result"
    }
   ],
   "source": [
    "import os\n",
    "os.path.getsize('/etc/passwd')\n"
   ]
  },
  {
   "cell_type": "code",
   "execution_count": 5,
   "metadata": {},
   "outputs": [
    {
     "data": {
      "text/plain": [
       "'/usr/local/bin/python3'"
      ]
     },
     "execution_count": 5,
     "metadata": {},
     "output_type": "execute_result"
    }
   ],
   "source": [
    "# Is a regular file\n",
    "os.path.isfile('/etc/passwd')\n",
    "# Is a directory\n",
    "os.path.isdir('/etc/passwd')\n",
    "# Is a symbolic link\n",
    "os.path.islink('/usr/local/bin/python3')\n",
    "# Get the file linked to\n",
    "os.path.realpath('/usr/local/bin/python3')\n"
   ]
  },
  {
   "cell_type": "code",
   "execution_count": 6,
   "metadata": {},
   "outputs": [
    {
     "data": {
      "text/plain": [
       "1534542858.0"
      ]
     },
     "execution_count": 6,
     "metadata": {},
     "output_type": "execute_result"
    }
   ],
   "source": [
    "os.path.getmtime('/etc/passwd')"
   ]
  },
  {
   "cell_type": "code",
   "execution_count": 7,
   "metadata": {},
   "outputs": [
    {
     "data": {
      "text/plain": [
       "'Sat Aug 18 03:24:18 2018'"
      ]
     },
     "execution_count": 7,
     "metadata": {},
     "output_type": "execute_result"
    }
   ],
   "source": [
    "import time\n",
    "time.ctime(os.path.getmtime('/etc/passwd'))"
   ]
  },
  {
   "cell_type": "markdown",
   "metadata": {
    "collapsed": true
   },
   "source": [
    "Getting a Directory Listing"
   ]
  },
  {
   "cell_type": "code",
   "execution_count": 11,
   "metadata": {},
   "outputs": [
    {
     "name": "stdout",
     "output_type": "stream",
     "text": [
      "['.swipl-dir-history', '.eclipse', '.config', 'swipl.home', 'Music', '.expo', 'prolog', '.condarc', '.node-gyp', 'perl5', 'octave-workspace', '.python_history-01496.tmp', '.php_history', '.DS_Store', '.jspm', '.thumbnails', 'first-contributions', '.CFUserTextEncoding', '.idm', 'test', '.qgis2', '.netrc', '.subversion', 'my-new-project', '.plotly', '.local', 'projects', 'Pictures', '.multirust', '.atom', '.pub-cache', 'MacKeeper Backups', '.p2', '.ipython', 'Desktop', 'Library', '.matplotlib', '.lesshst', '.oracle_jre_usage', 'iCloud Drive (Archive)', '.python_history-21247.tmp', '.emacs.d', '.octave_hist', '.cargo', '.android', '.tu', '.cups', '.bash_sessions', 'Google Drive', 'Public', 'GitHub', '.bash_profile-anaconda3.bak', 'VERSION', '.flutter', 'Data Science', '.anaconda', '.rustup', '.ssh', 'Movies', 'Applications', '.profile', '.drjava', '.Trash', '.ipynb_checkpoints', 'price.txt', '.jupyter', '.npm', 'Documents', '.babel.json', 'Working with Text Data.ipynb', '.m2', '.(null).padl', '.bash_profile', '.gem', 'anaconda3', 'Downloads', '.python_history', '.gitconfig', '.nylas-mail', '.cufflinks', '.bash_history', 'Info.plist', '.viminfo', '.uc-90d0bed2edf684086fe2d7392c61ab6d.siva.sivabalans-macbook-pro.local.tmp', '.conda', '.composer']\n"
     ]
    }
   ],
   "source": [
    "import os\n",
    "names = os.listdir('/Users/siva')\n",
    "print(names)"
   ]
  },
  {
   "cell_type": "code",
   "execution_count": 13,
   "metadata": {},
   "outputs": [
    {
     "data": {
      "text/plain": [
       "'utf-8'"
      ]
     },
     "execution_count": 13,
     "metadata": {},
     "output_type": "execute_result"
    }
   ],
   "source": [
    "import sys\n",
    "sys.getfilesystemencoding()"
   ]
  },
  {
   "cell_type": "markdown",
   "metadata": {
    "collapsed": true
   },
   "source": [
    "Communicating with Serial Ports"
   ]
  },
  {
   "cell_type": "code",
   "execution_count": 1,
   "metadata": {},
   "outputs": [
    {
     "ename": "ModuleNotFoundError",
     "evalue": "No module named 'serial'",
     "output_type": "error",
     "traceback": [
      "\u001b[0;31m---------------------------------------------------------------------------\u001b[0m",
      "\u001b[0;31mModuleNotFoundError\u001b[0m                       Traceback (most recent call last)",
      "\u001b[0;32m<ipython-input-1-5b548048b4cd>\u001b[0m in \u001b[0;36m<module>\u001b[0;34m()\u001b[0m\n\u001b[0;32m----> 1\u001b[0;31m \u001b[0;32mimport\u001b[0m \u001b[0mserial\u001b[0m\u001b[0;34m\u001b[0m\u001b[0m\n\u001b[0m\u001b[1;32m      2\u001b[0m ser = serial.Serial('/dev/tty.usbmodem641', # Device name varies\n\u001b[1;32m      3\u001b[0m \u001b[0mbaudrate\u001b[0m\u001b[0;34m=\u001b[0m\u001b[0;36m9600\u001b[0m\u001b[0;34m,\u001b[0m\u001b[0;34m\u001b[0m\u001b[0m\n\u001b[1;32m      4\u001b[0m \u001b[0mbytesize\u001b[0m\u001b[0;34m=\u001b[0m\u001b[0;36m8\u001b[0m\u001b[0;34m,\u001b[0m\u001b[0;34m\u001b[0m\u001b[0m\n\u001b[1;32m      5\u001b[0m \u001b[0mparity\u001b[0m\u001b[0;34m=\u001b[0m\u001b[0;34m'N'\u001b[0m\u001b[0;34m,\u001b[0m\u001b[0;34m\u001b[0m\u001b[0m\n",
      "\u001b[0;31mModuleNotFoundError\u001b[0m: No module named 'serial'"
     ]
    }
   ],
   "source": [
    "import serial\n",
    "ser = serial.Serial('/dev/tty.usbmodem641', # Device name varies\n",
    "baudrate=9600,\n",
    "bytesize=8,\n",
    "parity='N',\n",
    "stopbits=1)"
   ]
  },
  {
   "cell_type": "code",
   "execution_count": null,
   "metadata": {
    "collapsed": true
   },
   "outputs": [],
   "source": [
    "ser.write(b'G1 X50 Y50\\r\\n')\n",
    "resp = ser.readline()"
   ]
  },
  {
   "cell_type": "markdown",
   "metadata": {
    "collapsed": true
   },
   "source": [
    "Serializing Python Objects"
   ]
  },
  {
   "cell_type": "code",
   "execution_count": null,
   "metadata": {
    "collapsed": true
   },
   "outputs": [],
   "source": [
    "import pickle\n",
    "data = ... # Some Python object\n",
    "f = open('somefile', 'wb')\n",
    "pickle.dump(data, f)"
   ]
  },
  {
   "cell_type": "code",
   "execution_count": null,
   "metadata": {
    "collapsed": true
   },
   "outputs": [],
   "source": [
    "s = pickle.dumps(data)"
   ]
  },
  {
   "cell_type": "code",
   "execution_count": null,
   "metadata": {
    "collapsed": true
   },
   "outputs": [],
   "source": [
    "# Restore from a file\n",
    "f = open('somefile', 'rb')\n",
    "data = pickle.load(f)\n",
    "# Restore from a string\n",
    "data = pickle.loads(s)"
   ]
  },
  {
   "cell_type": "code",
   "execution_count": null,
   "metadata": {
    "collapsed": true
   },
   "outputs": [],
   "source": []
  },
  {
   "cell_type": "code",
   "execution_count": null,
   "metadata": {
    "collapsed": true
   },
   "outputs": [],
   "source": []
  },
  {
   "cell_type": "code",
   "execution_count": null,
   "metadata": {
    "collapsed": true
   },
   "outputs": [],
   "source": []
  },
  {
   "cell_type": "code",
   "execution_count": null,
   "metadata": {
    "collapsed": true
   },
   "outputs": [],
   "source": []
  },
  {
   "cell_type": "code",
   "execution_count": null,
   "metadata": {
    "collapsed": true
   },
   "outputs": [],
   "source": []
  },
  {
   "cell_type": "code",
   "execution_count": null,
   "metadata": {
    "collapsed": true
   },
   "outputs": [],
   "source": []
  },
  {
   "cell_type": "code",
   "execution_count": null,
   "metadata": {
    "collapsed": true
   },
   "outputs": [],
   "source": []
  },
  {
   "cell_type": "code",
   "execution_count": null,
   "metadata": {
    "collapsed": true
   },
   "outputs": [],
   "source": []
  }
 ],
 "metadata": {
  "kernelspec": {
   "display_name": "Python 3",
   "language": "python",
   "name": "python3"
  },
  "language_info": {
   "codemirror_mode": {
    "name": "ipython",
    "version": 3
   },
   "file_extension": ".py",
   "mimetype": "text/x-python",
   "name": "python",
   "nbconvert_exporter": "python",
   "pygments_lexer": "ipython3",
   "version": "3.6.4"
  }
 },
 "nbformat": 4,
 "nbformat_minor": 2
}
